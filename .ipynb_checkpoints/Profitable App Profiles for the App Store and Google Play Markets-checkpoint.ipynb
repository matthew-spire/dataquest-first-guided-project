{
 "cells": [
  {
   "cell_type": "markdown",
   "metadata": {},
   "source": [
    "# Profitable App Profiles for the App Store and Google Play Markets\n",
    "\n",
    "- About: This project analyzes the apps a company has available on Google Play and the App Store. As the company only builds apps that are free to download and install, the main source of revenue consists of in-app ads. For in-app ads, the revenue for any given app is mostly influenced by the number of users who use the app, i.e. the more users that see and engage with the adds, the better.\n",
    "- Goal: The goal for this project is to analyze data to help the developers understand what type of apps are likely to attract more users."
   ]
  },
  {
   "cell_type": "markdown",
   "metadata": {},
   "source": [
    "## First Steps\n",
    "\n",
    "The first steps when performing data analysis involve importing the necessary package(s), bringing in the data to be analyzed, and performing a cursory exploration of the data sets."
   ]
  },
  {
   "cell_type": "code",
   "execution_count": 1,
   "metadata": {},
   "outputs": [],
   "source": [
    "# Import the necessary package(s)\n",
    "import pandas as pd"
   ]
  },
  {
   "cell_type": "code",
   "execution_count": 2,
   "metadata": {},
   "outputs": [],
   "source": [
    "# Import the data sets and store them as DataFrames\n",
    "apple_app_store = pd.read_csv('AppleStore.csv')\n",
    "google_play_store = pd.read_csv('googleplaystore.csv')"
   ]
  },
  {
   "cell_type": "code",
   "execution_count": 3,
   "metadata": {},
   "outputs": [
    {
     "name": "stdout",
     "output_type": "stream",
     "text": [
      "The first few rows of the App Store data set: \n",
      "           id               track_name  size_bytes currency  price  \\\n",
      "0  284882215                 Facebook   389879808      USD    0.0   \n",
      "1  389801252                Instagram   113954816      USD    0.0   \n",
      "2  529479190           Clash of Clans   116476928      USD    0.0   \n",
      "3  420009108               Temple Run    65921024      USD    0.0   \n",
      "4  284035177  Pandora - Music & Radio   130242560      USD    0.0   \n",
      "\n",
      "   rating_count_tot  rating_count_ver  user_rating  user_rating_ver      ver  \\\n",
      "0           2974676               212          3.5              3.5     95.0   \n",
      "1           2161558              1289          4.5              4.0    10.23   \n",
      "2           2130805               579          4.5              4.5  9.24.12   \n",
      "3           1724546              3842          4.5              4.0    1.6.2   \n",
      "4           1126879              3594          4.0              4.5    8.4.1   \n",
      "\n",
      "  cont_rating        prime_genre  sup_devices.num  ipadSc_urls.num  lang.num  \\\n",
      "0          4+  Social Networking               37                1        29   \n",
      "1         12+      Photo & Video               37                0        29   \n",
      "2          9+              Games               38                5        18   \n",
      "3          9+              Games               40                5         1   \n",
      "4         12+              Music               37                4         1   \n",
      "\n",
      "   vpp_lic  \n",
      "0        1  \n",
      "1        1  \n",
      "2        1  \n",
      "3        1  \n",
      "4        1  \n",
      "\n",
      "\n",
      "The first few rows of the Google Play data set: \n",
      "                                                  App        Category  Rating  \\\n",
      "0     Photo Editor & Candy Camera & Grid & ScrapBook  ART_AND_DESIGN     4.1   \n",
      "1                                Coloring book moana  ART_AND_DESIGN     3.9   \n",
      "2  U Launcher Lite – FREE Live Cool Themes, Hide ...  ART_AND_DESIGN     4.7   \n",
      "3                              Sketch - Draw & Paint  ART_AND_DESIGN     4.5   \n",
      "4              Pixel Draw - Number Art Coloring Book  ART_AND_DESIGN     4.3   \n",
      "\n",
      "  Reviews  Size     Installs  Type Price Content Rating  \\\n",
      "0     159   19M      10,000+  Free     0       Everyone   \n",
      "1     967   14M     500,000+  Free     0       Everyone   \n",
      "2   87510  8.7M   5,000,000+  Free     0       Everyone   \n",
      "3  215644   25M  50,000,000+  Free     0           Teen   \n",
      "4     967  2.8M     100,000+  Free     0       Everyone   \n",
      "\n",
      "                      Genres      Last Updated         Current Ver  \\\n",
      "0               Art & Design   January 7, 2018               1.0.0   \n",
      "1  Art & Design;Pretend Play  January 15, 2018               2.0.0   \n",
      "2               Art & Design    August 1, 2018               1.2.4   \n",
      "3               Art & Design      June 8, 2018  Varies with device   \n",
      "4    Art & Design;Creativity     June 20, 2018                 1.1   \n",
      "\n",
      "    Android Ver  \n",
      "0  4.0.3 and up  \n",
      "1  4.0.3 and up  \n",
      "2  4.0.3 and up  \n",
      "3    4.2 and up  \n",
      "4    4.4 and up  \n",
      "\n",
      "\n",
      "The number of rows and columns in the App Store data set is:  (7197, 16)\n",
      "The number of rows and columns in the Google Play data set is:  (10841, 13)\n"
     ]
    }
   ],
   "source": [
    "# Explore both data sets\n",
    "\n",
    "# Print the first few rows of each data set\n",
    "print(\"The first few rows of the App Store data set: \\n\", apple_app_store.head())\n",
    "print(\"\\n\")\n",
    "print(\"The first few rows of the Google Play data set: \\n\", google_play_store.head())\n",
    "print(\"\\n\")\n",
    "\n",
    "# Find the number of rows and columns of each data set\n",
    "print(\"The number of rows and columns in the App Store data set is: \", apple_app_store.shape)\n",
    "print(\"The number of rows and columns in the Google Play data set is: \", google_play_store.shape)"
   ]
  },
  {
   "cell_type": "code",
   "execution_count": 4,
   "metadata": {},
   "outputs": [
    {
     "name": "stdout",
     "output_type": "stream",
     "text": [
      "Column names for the App Store data set:  ['id' 'track_name' 'size_bytes' 'currency' 'price' 'rating_count_tot'\n",
      " 'rating_count_ver' 'user_rating' 'user_rating_ver' 'ver' 'cont_rating'\n",
      " 'prime_genre' 'sup_devices.num' 'ipadSc_urls.num' 'lang.num' 'vpp_lic']\n",
      "Column names for the Google Play data set:  ['App' 'Category' 'Rating' 'Reviews' 'Size' 'Installs' 'Type' 'Price'\n",
      " 'Content Rating' 'Genres' 'Last Updated' 'Current Ver' 'Android Ver']\n"
     ]
    }
   ],
   "source": [
    "# Print the column names and try to identify the columns that could help with the analysis\n",
    "print(\"Column names for the App Store data set: \", apple_app_store.columns.values)\n",
    "print(\"Column names for the Google Play data set: \", google_play_store.columns.values)"
   ]
  },
  {
   "cell_type": "markdown",
   "metadata": {},
   "source": [
    "## Data Set Description\n",
    "\n",
    "### For the App Store\n",
    "- id: App ID\n",
    "- track_name: App Name\n",
    "- size_bytes: Size (in Bytes) of APP\n",
    "- currency: Currency Type\n",
    "- price: Price Amount\n",
    "- rating_count_tot: User Rating Counts (for all version)\n",
    "- rating_count_ver: User rating count (for current version)\n",
    "- user_rating: Average User Rating Value (for all version)\n",
    "- user_rating_ver: Average User Rating Value (for current version)\n",
    "- ver: Latest Version Code\n",
    "- cont_rating: Content Rating\n",
    "- prime_genre: Primary Genre\n",
    "- sup_devices.num: Number of Supporting Devices\n",
    "- ipadSc_urls.num: Number of Screenshots Showed for Display\n",
    "- lang.num: Number of Supported Languages\n",
    "- vpp_lic: Vpp Device Based Licensing Enabled\n",
    "\n",
    "With respect to the App Store, none of the columns provide sufficient information to determine what type of apps are likely to attract more users. For example, there is no information on the number of installs for a given app that could be paired with user rating data.\n",
    "\n",
    "### For Google Play\n",
    "- App: Name of the App\n",
    "- Category: Category Under Which the App Falls\n",
    "- Rating: App's Rating on the Play Store\n",
    "- Reviews: Number of Reviews of the App\n",
    "- Size: Size of the App\n",
    "- Installs: Number of Installs of the App\n",
    "- Type: If the App Is Free/Paid\n",
    "- Price: Price of the App\n",
    "- Content Rating: Appropriate Target Audience for the App\n",
    "- Genres: Genre Under Which the App Falls\n",
    "- Last Updated: Date When the App Was Last Updated\n",
    "- Current Ver: Current Version of the App\n",
    "- Android Ver: Minimum Android Version Required to Run the App\n",
    "\n",
    "For Google Play, there is data on the number of installs of the app, information on the app's rating on the Play Store, as well as additional data (e.g. review information, genre data, etc.) that can be used to determine what type of apps are likely to attract more users."
   ]
  },
  {
   "cell_type": "markdown",
   "metadata": {},
   "source": [
    "## Next Step - Data Cleaning\n",
    "\n",
    "Prior to analyzing the data, it is necessary to make sure the data is accurate, otherwise the results of the analysis will be wrong. Data cleaning is done to ensure the data is accurate. Data cleaning involves:\n",
    "\n",
    "- Detecting inaccurate data and correcting or removing it.\n",
    "  - Inaccurate data: Information that has not been entered correctly or maintained.\n",
    "- Detecting duplicate data and removing it.\n",
    "  - Duplicate data: A single, in this case app, that occupies more than one record in the database.\n",
    "- Modifying the data to fit the purpose of the analysis.\n",
    "  - In this case, the data needs to be modified so that paid apps and non-English apps are not included in the analysis."
   ]
  },
  {
   "cell_type": "markdown",
   "metadata": {},
   "source": [
    "### Detecting Inaccurate Data and Correcting or Removing It\n",
    "\n",
    "[One of the discussions](https://www.kaggle.com/lava18/google-play-store-apps/discussion/66015) regarding the Google Play data set describes an error for a certain row. The error is that the value in the 'Category' column is actually the value for the 'Rating' column and the values for all subsequent columns have shifted left by one column (i.e. the value in the 'Rating' column is actually the value for the 'Reviews' column, the value in the 'Reviews' column is actually the value for the 'Size' column, etc.).\n",
    "\n",
    "So, what should be done about the innacurate, in this case missing, data? There are a number of different options, including:\n",
    "\n",
    "- Dropping the row from the data set.\n",
    "- Beginning with the 'Category' column, shifting the values right by one column, and:\n",
    "  - Replacing the value in the 'Category' column with \"NO INFO\" or\n",
    "  - Attempting to infer what the value in the 'Category' column should be based on adjacent rows and using that information to replace the value in the 'Category' column.\n",
    "\n",
    "As the 'Category' column is information that helps the developers understand what type of apps are likely to attract more users, dropping the row from the data set ensures that the innacurate (i.e. missing) data does not impact the analysis."
   ]
  },
  {
   "cell_type": "code",
   "execution_count": 5,
   "metadata": {},
   "outputs": [
    {
     "name": "stdout",
     "output_type": "stream",
     "text": [
      "                                           App Category  Rating Reviews  \\\n",
      "10472  Life Made WI-Fi Touchscreen Photo Frame      1.9    19.0    3.0M   \n",
      "\n",
      "         Size Installs Type     Price Content Rating             Genres  \\\n",
      "10472  1,000+     Free    0  Everyone            NaN  February 11, 2018   \n",
      "\n",
      "      Last Updated Current Ver Android Ver  \n",
      "10472       1.0.19  4.0 and up         NaN  \n"
     ]
    }
   ],
   "source": [
    "# Observe the inaccurate (i.e. missing) data and drop the row from the data set\n",
    "print(google_play_store.loc[[10472]])\n",
    "google_play_store = google_play_store.drop(10472)\n",
    "google_play_store = google_play_store.reset_index(drop=True)"
   ]
  },
  {
   "cell_type": "markdown",
   "metadata": {},
   "source": [
    "### Detecting Duplicate Data and Removing It\n",
    "\n",
    "A search of the [discussion section](https://www.kaggle.com/ramamet4/app-store-apple-data-set-10k-apps/discussion) of the (Apple) App Store data set shows that there is some duplicate data that needs to be removed.\n",
    "\n",
    "The Google Play data set also has duplicate data that needs to be removed. For example, Instagram appears four (4) times in the data set."
   ]
  },
  {
   "cell_type": "code",
   "execution_count": 6,
   "metadata": {},
   "outputs": [
    {
     "name": "stdout",
     "output_type": "stream",
     "text": [
      "            App Category  Rating   Reviews                Size  \\\n",
      "2545  Instagram   SOCIAL     4.5  66577313  Varies with device   \n",
      "2604  Instagram   SOCIAL     4.5  66577446  Varies with device   \n",
      "2611  Instagram   SOCIAL     4.5  66577313  Varies with device   \n",
      "3909  Instagram   SOCIAL     4.5  66509917  Varies with device   \n",
      "\n",
      "            Installs  Type Price Content Rating  Genres   Last Updated  \\\n",
      "2545  1,000,000,000+  Free     0           Teen  Social  July 31, 2018   \n",
      "2604  1,000,000,000+  Free     0           Teen  Social  July 31, 2018   \n",
      "2611  1,000,000,000+  Free     0           Teen  Social  July 31, 2018   \n",
      "3909  1,000,000,000+  Free     0           Teen  Social  July 31, 2018   \n",
      "\n",
      "             Current Ver         Android Ver  \n",
      "2545  Varies with device  Varies with device  \n",
      "2604  Varies with device  Varies with device  \n",
      "2611  Varies with device  Varies with device  \n",
      "3909  Varies with device  Varies with device  \n"
     ]
    }
   ],
   "source": [
    "# Subset the Google Play data set using loc to provide an example of the appearance of duplicate data\n",
    "print(google_play_store.loc[google_play_store['App'] == 'Instagram'])"
   ]
  },
  {
   "cell_type": "markdown",
   "metadata": {},
   "source": [
    "Instagram is not the only culprit. There are 1,181 cases where an app appears more than once."
   ]
  },
  {
   "cell_type": "code",
   "execution_count": 7,
   "metadata": {},
   "outputs": [
    {
     "name": "stdout",
     "output_type": "stream",
     "text": [
      "                                      App\n",
      "229          Quick PDF Scanner + OCR FREE\n",
      "236                                   Box\n",
      "239                    Google My Business\n",
      "256                   ZOOM Cloud Meetings\n",
      "261             join.me - Simple Meetings\n",
      "...                                   ...\n",
      "10714                  FarmersOnly Dating\n",
      "10719  Firefox Focus: The privacy browser\n",
      "10729                         FP Notebook\n",
      "10752      Slickdeals: Coupons & Shopping\n",
      "10767                                AAFP\n",
      "\n",
      "[1181 rows x 1 columns]\n"
     ]
    }
   ],
   "source": [
    "# Create a DataFrame object\n",
    "google_play_store_dataframe_object = pd.DataFrame(google_play_store, columns=['App'])\n",
    "\n",
    "# Find duplicate rows\n",
    "google_play_store_duplicate_row = google_play_store_dataframe_object[google_play_store_dataframe_object.duplicated()]\n",
    "print(google_play_store_duplicate_row)"
   ]
  },
  {
   "cell_type": "markdown",
   "metadata": {},
   "source": [
    "The duplicate data needs to be removed to prevent the analysis from being affected.\n",
    "\n",
    "Returning to the example of Instagram, right now there are four (4) occurrences when there should only be one (1). So, this means that there are three (3) occurrences which are not valid (e.g. due to being outdated) and one (1) occurrence which is valid (e.g. the most recent scrape of the data source). In order to prevent the valid occurrence from being removed or an invalid occurrence from being retained, a criterion must be used to remove the duplicates (i.e. the duplicates should not be removed randomly).\n",
    "\n",
    "The criterion used to remove duplicate data can be based on one or more factors, including:\n",
    "\n",
    "- The number of reviews.\n",
    "- The data the app was last updated.\n",
    "- The current version of the app.\n",
    "- Etc.\n",
    "\n",
    "For Instagram, the number of reviews is the main difference between the duplicate entries. The different numbers show the data was collected at different times. The higher the number of reviews, the more recent the data should be. Rather than removing duplicates randomly, the row with the highest number of reviews will be kept and the other entries will be removed for any given app. This will first be done for Instagram (to ensure the process works and there are no unintended consequences) and will then be applied to the rest of the duplicate entries in the data set."
   ]
  },
  {
   "cell_type": "code",
   "execution_count": 8,
   "metadata": {},
   "outputs": [
    {
     "name": "stdout",
     "output_type": "stream",
     "text": [
      "            App Category  Rating   Reviews                Size  \\\n",
      "2604  Instagram   SOCIAL     4.5  66577446  Varies with device   \n",
      "2611  Instagram   SOCIAL     4.5  66577313  Varies with device   \n",
      "2545  Instagram   SOCIAL     4.5  66577313  Varies with device   \n",
      "3909  Instagram   SOCIAL     4.5  66509917  Varies with device   \n",
      "\n",
      "            Installs  Type Price Content Rating  Genres   Last Updated  \\\n",
      "2604  1,000,000,000+  Free     0           Teen  Social  July 31, 2018   \n",
      "2611  1,000,000,000+  Free     0           Teen  Social  July 31, 2018   \n",
      "2545  1,000,000,000+  Free     0           Teen  Social  July 31, 2018   \n",
      "3909  1,000,000,000+  Free     0           Teen  Social  July 31, 2018   \n",
      "\n",
      "             Current Ver         Android Ver  \n",
      "2604  Varies with device  Varies with device  \n",
      "2611  Varies with device  Varies with device  \n",
      "2545  Varies with device  Varies with device  \n",
      "3909  Varies with device  Varies with device  \n",
      "\n",
      "\n",
      "            App Category  Rating   Reviews                Size  \\\n",
      "2604  Instagram   SOCIAL     4.5  66577446  Varies with device   \n",
      "\n",
      "            Installs  Type Price Content Rating  Genres   Last Updated  \\\n",
      "2604  1,000,000,000+  Free     0           Teen  Social  July 31, 2018   \n",
      "\n",
      "             Current Ver         Android Ver  \n",
      "2604  Varies with device  Varies with device  \n"
     ]
    }
   ],
   "source": [
    "# Make a copy of the DataFrame, which can then be modified without affecting the original DataFrame\n",
    "google_play_store_copy = google_play_store.copy()\n",
    "\n",
    "# Sort the copied DataFrame by reviews, then subset the sorted copy of the Google Play data set using  \n",
    "# loc to show that the duplicate data for Instagram is now sorted based on the number of reviews, with  \n",
    "# the row having the highest number of reviews appearing first\n",
    "google_play_store_instagram = google_play_store_copy.sort_values(by='Reviews', ascending=False).loc[lambda x: x.App == 'Instagram']\n",
    "print(google_play_store_instagram)\n",
    "print(\"\\n\")\n",
    "\n",
    "# For Instagram, keep the row with the highest number of reviews and remove the other entries\n",
    "google_play_store_instagram_actual = google_play_store_instagram.drop_duplicates('App', keep='first')\n",
    "print(google_play_store_instagram_actual)"
   ]
  },
  {
   "cell_type": "markdown",
   "metadata": {},
   "source": [
    "So, when applied to Instagram, the process to remove duplicate data was successful.\n",
    "\n",
    "The process is:\n",
    "1. Sort the data based on the 'Reviews' column, i.e. by the number of reviews, in descending order.\n",
    "2. Drop the duplicate data based on the 'App' column, keeping the entry with the highest number of reviews.\n",
    "\n",
    "Apply the process to the entire data set, then verify that there are no more duplicate entries.\n",
    "\n",
    "When searching for duplicate rows using a DataFrame object, if the DataFrame is empty, then there are no duplicates and the process was successful. Another way of verifying the results is to check the number of rows. After removing the duplicates, we expect 9,659 rows."
   ]
  },
  {
   "cell_type": "code",
   "execution_count": 9,
   "metadata": {},
   "outputs": [
    {
     "name": "stdout",
     "output_type": "stream",
     "text": [
      "Empty DataFrame\n",
      "Columns: [App]\n",
      "Index: []\n",
      "\n",
      "After removing the duplicates, the number of rows and columns in the Google Play data set is:  (9659, 13)\n"
     ]
    }
   ],
   "source": [
    "google_play_store_no_duplicates = google_play_store_copy.sort_values(by='Reviews', ascending=False).drop_duplicates('App', keep='first')\n",
    "\n",
    "# Create a DataFrame object\n",
    "google_play_store_dataframe_object = pd.DataFrame(google_play_store_no_duplicates, columns=['App'])\n",
    "\n",
    "# Find duplicate rows\n",
    "google_play_store_duplicate_row = google_play_store_dataframe_object[google_play_store_dataframe_object.duplicated()]\n",
    "print(google_play_store_duplicate_row)\n",
    "\n",
    "print(\"\\nAfter removing the duplicates, the number of rows and columns in the Google Play data set is: \", google_play_store_no_duplicates.shape)"
   ]
  },
  {
   "cell_type": "markdown",
   "metadata": {},
   "source": [
    "### Modifying the Data to Fit the Purpose of the Analysis\n",
    "\n",
    "The last step in the data cleaning process is to modify the data to fit the purpose of the analysis. In this case, the data needs to be modified so that paid apps and non-English apps are not included in the analysis.\n",
    "\n",
    "So, how can non-English apps be removed from the data set? An initial approach will be to check whether the string can be encoded with only ASCII characters. If the string cannot be encoded with only ASCII characters, then the string has characters from some other alphabet or special characters.\n",
    "\n",
    "Testing this approach on some toy examples yields:"
   ]
  },
  {
   "cell_type": "code",
   "execution_count": 10,
   "metadata": {},
   "outputs": [
    {
     "name": "stdout",
     "output_type": "stream",
     "text": [
      "True\n",
      "False\n",
      "False\n",
      "False\n"
     ]
    }
   ],
   "source": [
    "def is_english(app_name):\n",
    "    try:\n",
    "        app_name.encode(encoding='utf-8').decode('ascii')\n",
    "    except UnicodeDecodeError:\n",
    "        return False\n",
    "    else:\n",
    "        return True\n",
    "\n",
    "print(is_english('Instagram'))\n",
    "print(is_english('爱奇艺PPS -《欢乐颂2》电视剧热播'))\n",
    "print(is_english('Docs To Go™ Free Office Suite'))\n",
    "print(is_english('Instachat 😜'))"
   ]
  },
  {
   "cell_type": "markdown",
   "metadata": {},
   "source": [
    "There is an issue with the initial approach, namely that 'Docs To Go™ Free Office Suite' and 'Instachat 😜', both English apps, are being recognized as non-English apps because they have special characters (i.e. '™' and '😜').\n",
    "\n",
    "An imperfect solution is as follows: Define a function that calculates how many characters are probably English characters, using regular expression, and return True above a certain threshold. The solution is not perfect as some words in non-English languages share the same letters (e.g. Daten, which is German for data)."
   ]
  },
  {
   "cell_type": "code",
   "execution_count": 11,
   "metadata": {},
   "outputs": [
    {
     "name": "stdout",
     "output_type": "stream",
     "text": [
      "(True, 1.0)\n",
      "(False, 0.3157894736842105)\n",
      "(True, 0.9655172413793104)\n",
      "(True, 0.9090909090909091)\n",
      "(True, 1.0)\n"
     ]
    }
   ],
   "source": [
    "import re\n",
    "\n",
    "def is_probably_english(app_name, threshold=0.90):\n",
    "    regular_expression = re.compile(r'[-a-zA-Z0-9_ ]')\n",
    "    ascii = [character for character in app_name if regular_expression.search(character)]\n",
    "    quotient = len(ascii) / len(app_name)\n",
    "    passed = True if quotient >= threshold else False\n",
    "    return passed, quotient\n",
    "\n",
    "print(is_probably_english('Instagram'))\n",
    "print(is_probably_english('爱奇艺PPS -《欢乐颂2》电视剧热播'))\n",
    "print(is_probably_english('Docs To Go™ Free Office Suite'))\n",
    "print(is_probably_english('Instachat 😜'))\n",
    "print(is_probably_english('Daten'))"
   ]
  },
  {
   "cell_type": "markdown",
   "metadata": {},
   "source": [
    "So, while not perfect, the solution does a relatively good job at identifying English apps and non-English apps.\n",
    "\n",
    "Applying the solution to the data set:"
   ]
  },
  {
   "cell_type": "code",
   "execution_count": 12,
   "metadata": {},
   "outputs": [
    {
     "name": "stdout",
     "output_type": "stream",
     "text": [
      "(9231, 13)\n"
     ]
    }
   ],
   "source": [
    "import re\n",
    "\n",
    "def is_probably_english(row, threshold=0.90):\n",
    "    regular_expression = re.compile(r'[-a-zA-Z0-9_ ]')\n",
    "    ascii = [character for character in row['App'] if regular_expression.search(character)]\n",
    "    quotient = len(ascii) / len(row['App'])\n",
    "    passed = True if quotient >= threshold else False\n",
    "    return passed\n",
    "\n",
    "google_play_store_is_probably_english = google_play_store_no_duplicates.apply(is_probably_english, axis=1)\n",
    "\n",
    "google_play_store_english = google_play_store_no_duplicates[google_play_store_is_probably_english]\n",
    "\n",
    "print(google_play_store_english.shape)"
   ]
  },
  {
   "cell_type": "markdown",
   "metadata": {},
   "source": [
    "Above, the google_play_store_no_duplicates DataFrame is filtered using the is_probably_english function, with the result, a boolean, stored in the google_play_store_is_probably_english DataFrame. The google_play_store_is_probably_english DataFrame is then used to filter out the non-English apps in the google_play_store_no_duplicates DataFrame, with the end result being stored in the google_play_store_english DataFrame."
   ]
  },
  {
   "cell_type": "markdown",
   "metadata": {},
   "source": [
    "So far in the data cleaning process:\n",
    "\n",
    "- Removed inaccurate data\n",
    "- Removed duplicate app entries\n",
    "- Removed non-English apps (to the greatest extent practical)\n",
    "\n",
    "As mentioned in the introduction, the company only build apps that are free to download and install, with the main source of revenue consisting of in-app ads. The data sets contain both free and non-free apps; so it is necessary to isolate only the free apps for the analysis.\n",
    "\n",
    "Isolating the free apps will be our last step in the data cleaning process."
   ]
  },
  {
   "cell_type": "code",
   "execution_count": null,
   "metadata": {},
   "outputs": [],
   "source": []
  }
 ],
 "metadata": {
  "kernelspec": {
   "display_name": "Python 3",
   "language": "python",
   "name": "python3"
  },
  "language_info": {
   "codemirror_mode": {
    "name": "ipython",
    "version": 3
   },
   "file_extension": ".py",
   "mimetype": "text/x-python",
   "name": "python",
   "nbconvert_exporter": "python",
   "pygments_lexer": "ipython3",
   "version": "3.7.4"
  }
 },
 "nbformat": 4,
 "nbformat_minor": 2
}
